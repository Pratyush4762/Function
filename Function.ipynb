{
  "nbformat": 4,
  "nbformat_minor": 0,
  "metadata": {
    "colab": {
      "provenance": []
    },
    "kernelspec": {
      "name": "python3",
      "display_name": "Python 3"
    },
    "language_info": {
      "name": "python"
    }
  },
  "cells": [
    {
      "cell_type": "markdown",
      "source": [
        "1-What is the difference between a function and a method in Python?\n",
        "\n",
        " - A function is basically a block of resuable code that performs a specific task, We can define a function using a 'def' keyword and we can call it from anywhere in your code. Methods are defined inside classes and are called using the dot notion like 'object.method()'.\n",
        "\n",
        "\n",
        "2-Explain the concept of function arguments and parameters in Python.\n",
        "\n",
        " - Arguments are the actual values you provide when calling the function, like in the call 'greet(\"Alice\"),\"Alice\" is tyhe argument being passed to the 'greet' function. Parameters are the variables inthe function defination, like 'name' is the parameter in the function.\n",
        "\n",
        "\n",
        "3-What are the different ways to define and call a function in Python?\n",
        "\n",
        " - There are various ways to define and call a function in python like Regular function, Lambda function, Using methods in a class, Passing arguments.\n",
        "\n",
        "\n",
        "4-What is the purpose of the `return` statement in a Python function?\n",
        "\n",
        " - Return function gives the output of the function. It is similar to as print .\n",
        "\n",
        "\n",
        "5-What are iterators in Python and how do they differ from iterables?\n",
        "\n",
        " - An iterator is an object that allows traversal through a countable number of values. It is used to iterate over iterable objects like lists, tuples, sets, etc.Iterators are different from iterables i terms of usage and state.\n",
        "\n",
        "\n",
        "6-Explain the concept of generators in Python and how they are defined.\n",
        "\n",
        " - Generators are a simple way to create iterators using functions and the yield keyword instead of returning values. To define a generator we can simply create a function that contains one or more 'yield' statements.\n",
        "\n",
        "\n",
        "7-What are the advantages of using generators over regular functions?\n",
        "\n",
        " - The advantages of using generators over regular functions are memory efficiency, lazy evaluation, similar code for iterations, infinite sequences, state preservation, improved performance foe large data.\n",
        "\n",
        "\n",
        "8-What is a lambda function in Python and when is it typically used?\n",
        "\n",
        " - Lambda functions are small, anonymous functions defined using the lambda keyword. They are used for creating small, throwaway functions without the need to formally define a function using def.\n",
        "\n",
        "\n",
        "9-Explain the purpose and usage of the `map()` function in Python.\n",
        "\n",
        " - The map function applies a given function to all items in an input iterable (like a list) and returns an iterator with the results. It is Used to transform each item in an iterable by applying the specified function.\n",
        "\n",
        "\n",
        "10-What is the difference between `map()`, `reduce()`, and `filter()` functions in Python?\n",
        "\n",
        " - The map function applies a given function to all items in an input iterable (like a list) and returns an iterator with the results. The reduce function from the functools module applies a given function cumulatively to the items of a sequence, from left to right, to reduce the sequence to a single value. The filter function constructs an iterator from elements of an iterable for which a specified function returns True.\n",
        "\n",
        "\n",
        "\n",
        "\n",
        "\n",
        "    \n",
        "    "
      ],
      "metadata": {
        "id": "qF99Rumbx0X7"
      }
    },
    {
      "cell_type": "code",
      "execution_count": null,
      "metadata": {
        "id": "mPO-ByWsxwAh"
      },
      "outputs": [],
      "source": [
        "#1- Write a Python function that takes a list of numbers as input and returns the sum of all even numbers in the list.\n",
        "def sum_even_numbers(numbers):\n",
        "    sum = 0\n",
        "    for num in numbers:\n",
        "        if num % 2 == 0:\n",
        "            sum += num\n",
        "    return sum\n"
      ]
    },
    {
      "cell_type": "code",
      "source": [
        "sum_even_numbers([1,2,3,4,5,6,7,8,9,10])"
      ],
      "metadata": {
        "colab": {
          "base_uri": "https://localhost:8080/"
        },
        "id": "S1H9ZOnqS2IU",
        "outputId": "0733e21b-ea95-4956-e5f4-8120093141d6"
      },
      "execution_count": null,
      "outputs": [
        {
          "output_type": "execute_result",
          "data": {
            "text/plain": [
              "30"
            ]
          },
          "metadata": {},
          "execution_count": 2
        }
      ]
    },
    {
      "cell_type": "code",
      "source": [
        "#2-Create a Python function that accepts a string and returns the reverse of that string.\n",
        "def reverse_string(string):\n",
        "    return string[::-1]"
      ],
      "metadata": {
        "id": "GyNXxSzIS-vD"
      },
      "execution_count": null,
      "outputs": []
    },
    {
      "cell_type": "code",
      "source": [
        "reverse_string(\"Hello, World\")"
      ],
      "metadata": {
        "colab": {
          "base_uri": "https://localhost:8080/",
          "height": 35
        },
        "id": "FXKZaJOWTU_a",
        "outputId": "b72de4d9-cd7b-43c6-ceb2-587cbc7c5a41"
      },
      "execution_count": null,
      "outputs": [
        {
          "output_type": "execute_result",
          "data": {
            "text/plain": [
              "'dlroW ,olleH'"
            ],
            "application/vnd.google.colaboratory.intrinsic+json": {
              "type": "string"
            }
          },
          "metadata": {},
          "execution_count": 4
        }
      ]
    },
    {
      "cell_type": "code",
      "source": [
        "#3-Implement a Python function that takes a list of integers and returns a new list containing the squares of each numbers.\n",
        "def square_numbers(numbers):\n",
        "    squares = []\n",
        "    for num in numbers:\n",
        "        squares.append(num ** 2)\n",
        "    return squares"
      ],
      "metadata": {
        "id": "uCSzYP1mTbgC"
      },
      "execution_count": null,
      "outputs": []
    },
    {
      "cell_type": "code",
      "source": [
        "square_numbers([1,2,3,4,5])"
      ],
      "metadata": {
        "colab": {
          "base_uri": "https://localhost:8080/"
        },
        "id": "IfY2te4eT2Iz",
        "outputId": "e70ddb03-56ec-4ec4-b5c9-4f7eca8d4b0e"
      },
      "execution_count": null,
      "outputs": [
        {
          "output_type": "execute_result",
          "data": {
            "text/plain": [
              "[1, 4, 9, 16, 25]"
            ]
          },
          "metadata": {},
          "execution_count": 6
        }
      ]
    },
    {
      "cell_type": "code",
      "source": [
        "#4-Write a Python function that checks if a given number is prime or not from 1 to 200.\n",
        "def is_prime(number):\n",
        "    if number < 2:\n",
        "        return False\n",
        "    for i in range(2, int(number ** 0.5) + 1):\n",
        "        if number % i == 0:\n",
        "            return False\n",
        "    return True"
      ],
      "metadata": {
        "id": "r9o731Z5T6YR"
      },
      "execution_count": null,
      "outputs": []
    },
    {
      "cell_type": "code",
      "source": [
        "is_prime(17)"
      ],
      "metadata": {
        "colab": {
          "base_uri": "https://localhost:8080/"
        },
        "id": "rzxBTcfYUTDi",
        "outputId": "1b1de20b-e049-4dfa-8cdf-d1f6804f2af8"
      },
      "execution_count": null,
      "outputs": [
        {
          "output_type": "execute_result",
          "data": {
            "text/plain": [
              "True"
            ]
          },
          "metadata": {},
          "execution_count": 8
        }
      ]
    },
    {
      "cell_type": "code",
      "source": [
        "#5-Create an iterator class in Python that generates the Fibonacci sequence up to a specified number of terms.\n",
        "def fib(n):\n",
        "  a = 0\n",
        "  b = 1\n",
        "  for i in range(n):\n",
        "    yield a\n",
        "    a, b = b, a + b\n"
      ],
      "metadata": {
        "id": "ep2uKhRQUWDC"
      },
      "execution_count": null,
      "outputs": []
    },
    {
      "cell_type": "code",
      "source": [
        "f = fib(1000000000)\n"
      ],
      "metadata": {
        "id": "ZQNVcT0CY9Tc"
      },
      "execution_count": null,
      "outputs": []
    },
    {
      "cell_type": "code",
      "source": [
        "f"
      ],
      "metadata": {
        "colab": {
          "base_uri": "https://localhost:8080/"
        },
        "id": "W9PSbJD8ZeD2",
        "outputId": "c34f9136-c20a-4e54-869d-dd9131e77699"
      },
      "execution_count": null,
      "outputs": [
        {
          "output_type": "execute_result",
          "data": {
            "text/plain": [
              "<generator object fib at 0x79f8906ba2f0>"
            ]
          },
          "metadata": {},
          "execution_count": 14
        }
      ]
    },
    {
      "cell_type": "code",
      "source": [
        "next(f)"
      ],
      "metadata": {
        "colab": {
          "base_uri": "https://localhost:8080/"
        },
        "id": "sq0KtUqHZiNb",
        "outputId": "166af626-af30-4228-dbab-3d5a22a616be"
      },
      "execution_count": null,
      "outputs": [
        {
          "output_type": "execute_result",
          "data": {
            "text/plain": [
              "0"
            ]
          },
          "metadata": {},
          "execution_count": 15
        }
      ]
    },
    {
      "cell_type": "code",
      "source": [
        "next(f)"
      ],
      "metadata": {
        "colab": {
          "base_uri": "https://localhost:8080/"
        },
        "id": "PkwtjOH9Zw8B",
        "outputId": "2850b88c-97ff-4c7b-df95-5f1a4d7bbe4d"
      },
      "execution_count": null,
      "outputs": [
        {
          "output_type": "execute_result",
          "data": {
            "text/plain": [
              "1"
            ]
          },
          "metadata": {},
          "execution_count": 16
        }
      ]
    },
    {
      "cell_type": "code",
      "source": [
        "#6-Write a generator function in Python that yields the powers of 2 up to a given exponent.\n",
        "def power_of_two(exponent):\n",
        "    for i in range(exponent + 1):\n",
        "        yield 2 ** i\n",
        "for power in power_of_two(5):\n",
        "  print(power)"
      ],
      "metadata": {
        "colab": {
          "base_uri": "https://localhost:8080/"
        },
        "id": "p8tkIolBZyxy",
        "outputId": "db06606b-7e7b-4a6a-e1b1-bc67f63d8348"
      },
      "execution_count": null,
      "outputs": [
        {
          "output_type": "stream",
          "name": "stdout",
          "text": [
            "1\n",
            "2\n",
            "4\n",
            "8\n",
            "16\n",
            "32\n"
          ]
        }
      ]
    },
    {
      "cell_type": "code",
      "source": [
        "#7- Implement a generator function that reads a file line by line and yields each line as a string.\n",
        "def read_file(filename):\n",
        "    with open(filename, 'r') as file:\n",
        "        for line in file:\n",
        "            yield line.strip()\n",
        "\n"
      ],
      "metadata": {
        "id": "KNzl35Zbaz36"
      },
      "execution_count": 37,
      "outputs": []
    },
    {
      "cell_type": "code",
      "source": [
        "#8-Use a lambda function in Python to sort a list of tuples based on the second element of each tuple.\n",
        "data = [('apple', 3), ('banana', 1), ('cherry', 2)]\n",
        "sorted_data = sorted(data, key=lambda x: x[1])\n",
        "print(sorted_data)"
      ],
      "metadata": {
        "id": "pVfJNZo4cfnS",
        "colab": {
          "base_uri": "https://localhost:8080/"
        },
        "outputId": "cbd627be-5e05-4f65-bec7-9d21074611ec"
      },
      "execution_count": 28,
      "outputs": [
        {
          "output_type": "stream",
          "name": "stdout",
          "text": [
            "[('banana', 1), ('cherry', 2), ('apple', 3)]\n"
          ]
        }
      ]
    },
    {
      "cell_type": "code",
      "source": [
        "#9-Write a Python program that uses `map()` to convert a list of temperatures from Celsius to Fahrenheit.\n",
        "celsius_temperatures = [0, 10, 20, 30, 40]\n",
        "fahrenheit_temperatures = list(map(lambda c: (c * 9/5) + 32, celsius_temperatures))\n",
        "print(fahrenheit_temperatures)"
      ],
      "metadata": {
        "colab": {
          "base_uri": "https://localhost:8080/"
        },
        "id": "ZauklZW3lqH7",
        "outputId": "c22837d4-98cd-487d-ee11-5a8eded191a8"
      },
      "execution_count": 30,
      "outputs": [
        {
          "output_type": "stream",
          "name": "stdout",
          "text": [
            "[32.0, 50.0, 68.0, 86.0, 104.0]\n"
          ]
        }
      ]
    },
    {
      "cell_type": "code",
      "source": [
        "#10- Create a Python program that uses `filter()` to remove all the vowels from a given string.\n",
        "def remove_vowels(string):\n",
        "    vowels = 'aeiouAEIOU'\n",
        "    return ''.join(filter(lambda x: x not in vowels, string))\n",
        ""
      ],
      "metadata": {
        "id": "A5MspSJ2l2qC"
      },
      "execution_count": 34,
      "outputs": []
    },
    {
      "cell_type": "code",
      "source": [
        "string = \"Hello, World!\"\n",
        "result = remove_vowels(string)\n",
        "print(result)\n"
      ],
      "metadata": {
        "colab": {
          "base_uri": "https://localhost:8080/"
        },
        "id": "_qlQ1xu_mfMl",
        "outputId": "fa816633-7b08-4fd7-ddf1-f8921c1a7a8a"
      },
      "execution_count": 36,
      "outputs": [
        {
          "output_type": "stream",
          "name": "stdout",
          "text": [
            "Hll, Wrld!\n"
          ]
        }
      ]
    },
    {
      "cell_type": "code",
      "source": [],
      "metadata": {
        "id": "At2vwGi-nHfj"
      },
      "execution_count": null,
      "outputs": []
    }
  ]
}